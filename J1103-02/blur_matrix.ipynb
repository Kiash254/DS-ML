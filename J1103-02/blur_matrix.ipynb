{
 "cells": [
  {
   "cell_type": "code",
   "execution_count": null,
   "metadata": {},
   "outputs": [],
   "source": [
    "import numpy as np"
   ]
  },
  {
   "cell_type": "code",
   "execution_count": null,
   "metadata": {},
   "outputs": [],
   "source": [
    "def h(lmj,mmk,n,z=.1):   \n",
    "    return (3.0/(np.pi*z*z))*np.maximum(0.0, 1.0 - np.sqrt((lmj**2)+(mmk**2))/(n*z))\n",
    "\n",
    "def build_blur_A(n=80,z=.1):\n",
    "    A = np.zeros((n*n,n*n));\n",
    "    s = np.array([(j-.5)/n for j in range(1,n+1)])\n",
    "    t = np.array([(k-.5)/n for k in range(1,n+1)])\n",
    "    J = np.arange(n)\n",
    "    Amk = np.zeros((n,n))\n",
    "    \n",
    "    # form each n-by-n block along the top row (m=0),\n",
    "    # then tile these blocks down the diagonal\n",
    "    J = np.arange(n)\n",
    "    for k in range(n):\n",
    "        m=0\n",
    "        for ell in range(n):\n",
    "            Amk[ell,:] = h(ell-J,m-k,n,z)/(n*n)\n",
    "        if k==0:  # main diagonal\n",
    "            for m in range(0,n):\n",
    "                A[m*n:(m+1)*n,m*n:(m+1)*n] = Amk\n",
    "        else:\n",
    "            if la.norm(Amk)>0:\n",
    "                for m in range(0,n-k):\n",
    "                    A[m*n:(m+1)*n,(m+k)*n:(m+k+1)*n] = Amk\n",
    "                    A[(m+k)*n:(m+k+1)*n,m*n:(m+1)*n] = Amk.T\n",
    "    return A"
   ]
  },
  {
   "cell_type": "code",
   "execution_count": null,
   "metadata": {},
   "outputs": [],
   "source": []
  }
 ],
 "metadata": {
  "kernelspec": {
   "display_name": "Python 3",
   "language": "python",
   "name": "python3"
  },
  "language_info": {
   "codemirror_mode": {
    "name": "ipython",
    "version": 3
   },
   "file_extension": ".py",
   "mimetype": "text/x-python",
   "name": "python",
   "nbconvert_exporter": "python",
   "pygments_lexer": "ipython3",
   "version": "3.7.4"
  }
 },
 "nbformat": 4,
 "nbformat_minor": 2
}
