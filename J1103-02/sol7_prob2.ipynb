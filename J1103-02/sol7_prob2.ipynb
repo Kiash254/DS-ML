{
 "cells": [
  {
   "cell_type": "code",
   "execution_count": 2,
   "metadata": {},
   "outputs": [],
   "source": [
    "import numpy as np\n",
    "from scipy import linalg as la\n",
    "import matplotlib.pyplot as plt"
   ]
  },
  {
   "cell_type": "code",
   "execution_count": 3,
   "metadata": {},
   "outputs": [],
   "source": [
    "eps = 0.01;\n",
    "Aeps = np.array([[1,50],[0,eps]]);\n",
    "\n",
    "beps = np.array([2,eps])"
   ]
  },
  {
   "cell_type": "code",
   "execution_count": 4,
   "metadata": {},
   "outputs": [
    {
     "name": "stdout",
     "output_type": "stream",
     "text": [
      "[-48.   1.]\n"
     ]
    }
   ],
   "source": [
    "xeps = la.solve(Aeps,beps);\n",
    "print(xeps)"
   ]
  },
  {
   "cell_type": "code",
   "execution_count": 5,
   "metadata": {},
   "outputs": [
    {
     "name": "stdout",
     "output_type": "stream",
     "text": [
      "[0.00079968 0.03998404]\n"
     ]
    }
   ],
   "source": [
    "U,S,Vt = la.svd(Aeps)\n",
    "xsvd = (np.inner(U[:,0],beps)/S[0])*(Vt[0,:].T)\n",
    "print(xsvd)"
   ]
  },
  {
   "cell_type": "code",
   "execution_count": 6,
   "metadata": {},
   "outputs": [
    {
     "name": "stdout",
     "output_type": "stream",
     "text": [
      "[[1.0e+00 5.0e+01]\n",
      " [0.0e+00 1.0e-02]\n",
      " [1.2e+01 0.0e+00]\n",
      " [0.0e+00 1.2e+01]]\n",
      "[2.   0.01 0.   0.  ]\n"
     ]
    }
   ],
   "source": [
    "lam = 12\n",
    "Alam = np.zeros((4,2))\n",
    "Alam[0:2,:] = Aeps\n",
    "Alam[2:4,:] = lam*np.eye(2)\n",
    "print(Alam)\n",
    "\n",
    "bhat = np.zeros(4)\n",
    "bhat[0:2] = beps\n",
    "\n",
    "print(bhat)"
   ]
  },
  {
   "cell_type": "code",
   "execution_count": 7,
   "metadata": {},
   "outputs": [
    {
     "name": "stdout",
     "output_type": "stream",
     "text": [
      "[0.00075613 0.03780722]\n"
     ]
    }
   ],
   "source": [
    "xlam = la.lstsq(Alam,bhat)[0]\n",
    "print(xlam)"
   ]
  },
  {
   "cell_type": "code",
   "execution_count": 8,
   "metadata": {},
   "outputs": [
    {
     "name": "stdout",
     "output_type": "stream",
     "text": [
      "[-1.84467505  0.07689354]\n",
      "[0.00079744 0.0399681 ]\n",
      "[0.00057126 0.0285633 ]\n"
     ]
    },
    {
     "data": {
      "image/png": "[encoded data removed]",
      "text/plain": [
       "<Figure size 432x288 with 1 Axes>"
      ]
     },
     "metadata": {
      "needs_background": "light"
     },
     "output_type": "display_data"
    }
   ],
   "source": [
    "bhat = np.zeros(4)\n",
    "bhat[0:2] = beps\n",
    "\n",
    "lamvec = np.logspace(-5,2,100)\n",
    "xnorm = np.array([])\n",
    "rnorm = np.array([])\n",
    "for lam in lamvec:\n",
    "   Alam = np.zeros((4,2))\n",
    "   Alam[0:2,:] = Aeps\n",
    "   Alam[2:4,:] = lam*np.eye(2)\n",
    "   xlam = la.lstsq(Alam,bhat)[0]\n",
    "   xnorm = np.append(xnorm, la.norm(xlam))\n",
    "   rnorm = np.append(rnorm, la.norm(beps-Aeps@xlam))\n",
    "plt.loglog(rnorm,xnorm,'.')\n",
    "plt.xlabel('norm of residual, $||b_{\\epsilon} - A_{\\epsilon} x_\\lambda||$',fontsize=13)\n",
    "plt.ylabel('norm of solution, $||x_\\lambda||$',fontsize=13)\n",
    "\n",
    "# highlight three values of lambda\n",
    "for lam in np.array([1e-3,1,10**(1.5)]):\n",
    "    Alam = np.zeros((4,2))\n",
    "    Alam[0:2,:] = Aeps\n",
    "    Alam[2:4,:] = lam*np.eye(2)\n",
    "    xlam = la.lstsq(Alam,bhat)[0]\n",
    "    print(xlam)\n",
    "    plt.loglog(la.norm(beps-Aeps@xlam),la.norm(xlam),'.',markersize=20)\n",
    "\n",
    "plt.savefig('twobytwoL.pdf')  \n"
   ]
  },
  {
   "cell_type": "code",
   "execution_count": null,
   "metadata": {},
   "outputs": [],
   "source": []
  }
 ],
 "metadata": {
  "kernelspec": {
   "display_name": "Python 3",
   "language": "python",
   "name": "python3"
  },
  "language_info": {
   "codemirror_mode": {
    "name": "ipython",
    "version": 3
   },
   "file_extension": ".py",
   "mimetype": "text/x-python",
   "name": "python",
   "nbconvert_exporter": "python",
   "pygments_lexer": "ipython3",
   "version": "3.7.4"
  }
 },
 "nbformat": 4,
 "nbformat_minor": 2
}
