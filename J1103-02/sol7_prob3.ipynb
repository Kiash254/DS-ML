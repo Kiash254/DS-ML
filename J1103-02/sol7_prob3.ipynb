{
 "cells": [
  {
   "cell_type": "code",
   "execution_count": null,
   "metadata": {},
   "outputs": [],
   "source": [
    "import numpy as np\n",
    "from scipy import linalg as la\n",
    "import matplotlib.pyplot as plt"
   ]
  },
  {
   "cell_type": "code",
   "execution_count": null,
   "metadata": {},
   "outputs": [],
   "source": [
    "def f(s):\n",
    "    return np.double(np.abs(s-.5)<=.25)\n",
    "\n",
    "def h(s,t,z=.1):\n",
    "    return (1/(np.sqrt(np.pi)*z))*np.exp(-np.square(s-t)/(z**2))\n",
    "    \n",
    "def build_blur_A(n=32,z=.25):\n",
    "    A = np.zeros((n,n));\n",
    "    s = np.array([(j-.5)/n for j in range(1,n+1)])\n",
    "    t = np.array([(k-.5)/n for k in range(1,n+1)])\n",
    "    for j in range(0,n):\n",
    "        A[j,:] = h(s[j],t,z)/n\n",
    "    return A"
   ]
  },
  {
   "cell_type": "code",
   "execution_count": null,
   "metadata": {},
   "outputs": [],
   "source": [
    "tt = np.linspace(0,1,500)\n",
    "plt.figure()\n",
    "for z in (0.2, 0.1, 0.05):\n",
    "    plt.plot(tt,h(0.5,tt,z),'-')\n",
    "plt.xlabel('$t$',fontsize=13)\n",
    "plt.ylabel('$h(0.5,t)$',fontsize=13)\n",
    "plt.title('Gaussian kernels for three values of $z$');\n",
    "plt.legend(('$z=0.2$','$z=0.1$','$z=0.05$'))\n",
    "plt.savefig('specint_h.pdf')"
   ]
  },
  {
   "cell_type": "code",
   "execution_count": null,
   "metadata": {},
   "outputs": [],
   "source": [
    "# plot f(s) on a fine grid of \"s\" points\n",
    "ss = np.linspace(0,1,500)\n",
    "plt.plot(ss,f(ss));"
   ]
  },
  {
   "cell_type": "code",
   "execution_count": null,
   "metadata": {},
   "outputs": [],
   "source": [
    "n = 500\n",
    "s = np.array([(j-.5)/n for j in range(1,n+1)])\n",
    "\n",
    "plt.figure()\n",
    "plt.plot(f(s),'.')   \n",
    "for z in (0.2, 0.1, 0.05):\n",
    "    A = build_blur_A(n,z)\n",
    "    b = A@f(s)\n",
    "    plt.plot(b,'.')\n",
    "plt.xlabel('$k$')\n",
    "plt.ylabel('$\\sigma_k$')\n",
    "plt.title('blurred vectors $b = Af$ for three values of $z$');\n",
    "plt.legend(('$f$','$z=0.2$','$z=0.1$','$z=0.05$'))\n",
    "plt.savefig('specint_b.pdf')"
   ]
  },
  {
   "cell_type": "code",
   "execution_count": null,
   "metadata": {},
   "outputs": [],
   "source": [
    "count = 0;\n",
    "for z in (0.2, 0.1, 0.05):\n",
    "    plt.figure()\n",
    "    count += 1\n",
    "    for n in (250, 500, 1000):\n",
    "        A = build_blur_A(n,z)\n",
    "        S = la.svd(A)[1]\n",
    "        plt.loglog(range(1,n+1),S,'.')\n",
    "    plt.xlabel('$k$',fontsize=13)\n",
    "    plt.ylabel('$\\sigma_k$',fontsize=13)\n",
    "    plt.title('singular values of blurring matrix, $z = {:2.2}$'.format(z),fontsize=13);\n",
    "    plt.legend(('$n=250$','$n=500$','$n=1000$'))\n",
    "    plt.savefig('specint_svd{:1}.pdf'.format(count))"
   ]
  },
  {
   "cell_type": "code",
   "execution_count": null,
   "metadata": {},
   "outputs": [],
   "source": [
    "n = 500\n",
    "z = 0.05\n",
    "A = build_blur_A(n,z)\n",
    "U,S,Vt = la.svd(A)\n",
    "for j in [1, 2, 3, 498, 499, 500]:\n",
    "    plt.figure()\n",
    "    plt.plot(Vt[j-1,:],'.')\n",
    "    plt.title('singular vector $v_j$ for $j={:2}$'.format(j),fontsize=13)\n",
    "    plt.savefig('specint_v{:1}.pdf'.format(j))"
   ]
  },
  {
   "cell_type": "code",
   "execution_count": null,
   "metadata": {},
   "outputs": [],
   "source": [
    "n=500\n",
    "z=0.05\n",
    "A = build_blur_A(n,z)\n",
    "s = np.array([(j-.5)/n for j in range(1,n+1)])\n",
    "ff = f(s)\n",
    "b = A@ff\n",
    "frec = la.solve(A,b)\n",
    "plt.figure()\n",
    "plt.plot(ff,'.')\n",
    "plt.plot(frec,'.')\n",
    "plt.xlabel('index, $j$')\n",
    "plt.ylabel('$f_j$')\n",
    "plt.legend(('$f$','$f_{rec}$'));\n",
    "plt.savefig('specint_frec.pdf')"
   ]
  },
  {
   "cell_type": "code",
   "execution_count": null,
   "metadata": {},
   "outputs": [],
   "source": []
  }
 ],
 "metadata": {
  "kernelspec": {
   "display_name": "Python 3",
   "language": "python",
   "name": "python3"
  },
  "language_info": {
   "codemirror_mode": {
    "name": "ipython",
    "version": 3
   },
   "file_extension": ".py",
   "mimetype": "text/x-python",
   "name": "python",
   "nbconvert_exporter": "python",
   "pygments_lexer": "ipython3",
   "version": "3.7.4"
  }
 },
 "nbformat": 4,
 "nbformat_minor": 2
}
