{
 "cells": [
  {
   "cell_type": "code",
   "execution_count": 1,
   "metadata": {},
   "outputs": [
    {
     "name": "stdout",
     "output_type": "stream",
     "text": [
      "Can a 19-year-old run for president? False\n",
      "Can a 45-year-old run for president? True\n"
     ]
    }
   ],
   "source": [
    "def can_run_for_president(age):\n",
    "    \"\"\"Can someone of the given age run for president in the US?\"\"\"\n",
    "    # The US Constitution says you must be at least 35 years old\n",
    "    return age >= 35\n",
    "\n",
    "print(\"Can a 19-year-old run for president?\", can_run_for_president(19))\n",
    "print(\"Can a 45-year-old run for president?\", can_run_for_president(45))"
   ]
  },
  {
   "cell_type": "code",
   "execution_count": 1,
   "metadata": {},
   "outputs": [
    {
     "name": "stdout",
     "output_type": "stream",
     "text": [
      "   col1  col2  col3\n",
      "0     1     4     7\n",
      "1     2     5     8\n",
      "2     3     6    12\n",
      "3     4     9     1\n",
      "4     7     5    11\n"
     ]
    }
   ],
   "source": [
    "import pandas as pd\n",
    "\n",
    "d = {'col1': [1, 2, 3, 4, 7], 'col2': [4, 5, 6, 9, 5], 'col3': [7, 8, 12, 1, 11]}\n",
    "\n",
    "df = pd.DataFrame(data=d)\n",
    "\n",
    "print(df)"
   ]
  },
  {
   "cell_type": "code",
   "execution_count": 5,
   "metadata": {},
   "outputs": [
    {
     "name": "stdout",
     "output_type": "stream",
     "text": [
      "[ 2. 80.]\n"
     ]
    }
   ],
   "source": [
    "import pandas as pd\n",
    "import numpy as np\n",
    "\n",
    "health_data = pd.read_csv(\"data.csv\", header=0, sep=\",\")\n",
    "\n",
    "x = health_data[\"Average_Pulse\"]\n",
    "y = health_data[\"Calorie_Burnage\"]\n",
    "slope_intercept = np.polyfit(x,y,1)\n",
    "\n",
    "print(slope_intercept)"
   ]
  },
  {
   "cell_type": "code",
   "execution_count": 1,
   "metadata": {},
   "outputs": [
    {
     "name": "stdout",
     "output_type": "stream",
     "text": [
      "3.6.1\n"
     ]
    }
   ],
   "source": [
    "import matplotlib\n",
    "\n",
    "print(matplotlib.__version__)"
   ]
  },
  {
   "cell_type": "code",
   "execution_count": 11,
   "metadata": {},
   "outputs": [
    {
     "name": "stdout",
     "output_type": "stream",
     "text": [
      "the mean of the data is  89.76923076923077\n",
      "the median of the data is  87.0\n",
      "the standard deviation of the data is  9.258292301032677\n",
      "the variance of the data is  85.71597633136093\n",
      "the first quartile of the data is  86.0\n",
      "the second quartile of the data is  87.0\n",
      "the percentile of the data is  94.0\n"
     ]
    }
   ],
   "source": [
    "import numpy\n",
    "\n",
    "speed = [99,86,87,88,111,86,103,87,94,78,77,85,86]\n",
    "\n",
    "meann= numpy.mean(speed)\n",
    "med=numpy.median(speed)\n",
    "std=numpy.std(speed)\n",
    "varss=numpy.var(speed)\n",
    "value1=numpy.percentile(speed,25)\n",
    "value2=numpy.percentile(speed,50)\n",
    "value=numpy.percentile(speed,75)\n",
    "\n",
    "print('the mean of the data is ',meann)\n",
    "print('the median of the data is ',med)\n",
    "print('the standard deviation of the data is ',std)\n",
    "print('the variance of the data is ',varss)\n",
    "print('the first quartile of the data is ',value1)\n",
    "print('the second quartile of the data is ',value2)\n",
    "print('the percentile of the data is ',value)\n",
    "\n"
   ]
  },
  {
   "cell_type": "code",
   "execution_count": 12,
   "metadata": {},
   "outputs": [
    {
     "name": "stdout",
     "output_type": "stream",
     "text": [
      "[3.68657778 1.15381133 4.13006034 2.70817394 4.86485342 0.53314529\n",
      " 2.22963924 2.64978661 2.04497928 1.72449653 0.95458459 2.7168747\n",
      " 1.38400009 3.79685181 4.81795839 0.10289428 3.19355265 0.64551462\n",
      " 4.75001929 0.14495237 1.65188015 3.49339657 1.69715583 4.95500124\n",
      " 3.97496344 2.73917259 4.28307432 1.05424633 4.61435926 1.95533752\n",
      " 0.01453949 2.41642757 1.92348166 4.37245149 3.98673491 3.68961527\n",
      " 0.07287953 3.38229016 3.45443196 4.50796506 2.47771962 2.30805649\n",
      " 1.1752455  0.28811465 0.91266201 1.45511782 2.82026109 2.49442592\n",
      " 2.07667086 0.52900672 0.85049812 0.70871839 2.37606015 4.25774589\n",
      " 0.7504874  4.19990983 4.98221189 3.82095631 2.44794617 1.15678783\n",
      " 2.64810772 3.87328788 3.37326362 1.64873064 4.79023541 3.13504282\n",
      " 2.31721153 0.90370429 3.20508091 1.08834125 3.74707449 0.41261655\n",
      " 1.70604122 4.93324743 3.06905776 2.87340926 2.78446054 1.31542137\n",
      " 4.07893551 2.26907085 2.26181375 3.00638901 1.25364092 1.19593583\n",
      " 1.77572294 0.35656494 2.6694865  4.05709139 1.05280994 4.29140403\n",
      " 1.4617158  3.34418971 2.25126783 3.38895656 2.57920593 2.97339362\n",
      " 2.65886365 0.99114373 4.41702355 1.48619177 2.17574663 4.56800415\n",
      " 3.69650671 0.30963183 3.94859302 4.60149066 0.25267308 1.44516753\n",
      " 0.02858809 0.08108543 1.06624998 1.95105776 4.37525231 1.84434139\n",
      " 2.08265524 4.51464904 4.67047638 4.39823041 0.35123252 4.9176115\n",
      " 4.9473982  0.26207918 1.48109512 2.82393893 3.80783823 2.71134072\n",
      " 0.29673553 4.31857598 0.64585336 4.41743568 4.4950067  2.3946834\n",
      " 4.08023714 1.20843637 3.12946225 2.81768649 3.8086705  3.8059542\n",
      " 1.79648453 2.78426847 0.02468103 0.5039334  2.34325196 0.75825232\n",
      " 2.35954232 0.97650995 2.32450479 2.94179077 4.69789792 2.90566461\n",
      " 2.15141099 1.53803425 4.63612775 1.29642992 4.13000208 4.86727327\n",
      " 2.32297943 1.89592595 2.34278607 2.49302882 4.39338128 4.25725018\n",
      " 1.20549354 0.85974247 4.88864494 3.09217045 1.29091407 1.89645155\n",
      " 1.8039034  1.82358335 2.78132269 4.541401   0.96771808 4.76733117\n",
      " 1.62885323 1.8159428  4.83854574 4.50386976 0.93898808 4.54045632\n",
      " 0.65144402 2.05434652 4.92506197 2.83139552 2.5551879  2.63574544\n",
      " 2.9053817  4.27408538 1.41975305 2.0624686  1.09186087 0.06173504\n",
      " 2.0584204  3.95790024 0.22414696 1.1134773  1.83084631 4.58451116\n",
      " 3.29150959 1.10110673 4.13942308 3.99688043 0.84188694 3.89019812\n",
      " 4.0393769  3.26373769 1.64994071 3.05526283 2.2675076  2.07600127\n",
      " 0.27685257 4.74047209 4.97060528 1.83631586 0.89929108 2.06387494\n",
      " 0.14116396 2.60275157 2.25172188 0.73847919 1.43377582 2.13398294\n",
      " 1.03754472 4.2105656  1.22291258 1.66725066 0.3628537  2.47275194\n",
      " 4.37803035 0.7658995  0.97578932 4.79071086 1.43477348 4.3169324\n",
      " 4.99945366 3.99417898 3.38362036 3.76445953 4.86018392 2.34747694\n",
      " 1.99636976 4.31862696 1.4686728  1.59356171 2.25135661 3.47102219\n",
      " 1.63586951 0.54594404 3.87666107 3.9213955 ]\n"
     ]
    }
   ],
   "source": [
    "import numpy\n",
    "\n",
    "x = numpy.random.uniform(0.0, 5.0, 250)\n",
    "\n",
    "print(x)"
   ]
  }
 ],
 "metadata": {
  "kernelspec": {
   "display_name": "Python 3.10.5 ('env': venv)",
   "language": "python",
   "name": "python3"
  },
  "language_info": {
   "codemirror_mode": {
    "name": "ipython",
    "version": 3
   },
   "file_extension": ".py",
   "mimetype": "text/x-python",
   "name": "python",
   "nbconvert_exporter": "python",
   "pygments_lexer": "ipython3",
   "version": "3.10.5"
  },
  "orig_nbformat": 4,
  "vscode": {
   "interpreter": {
    "hash": "086a0dd6483ce3898d8007f6e7546959472f7137d666ff60ce6caa3018632df6"
   }
  }
 },
 "nbformat": 4,
 "nbformat_minor": 2
}
