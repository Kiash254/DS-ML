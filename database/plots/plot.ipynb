{
 "cells": [
  {
   "cell_type": "code",
   "execution_count": 81,
   "metadata": {},
   "outputs": [
    {
     "name": "stderr",
     "output_type": "stream",
     "text": [
      "/tmp/ipykernel_60504/311033507.py:28: UserWarning: Matplotlib is currently using agg, which is a non-GUI backend, so cannot show the figure.\n",
      "  plt.show()\n"
     ]
    },
    {
     "ename": "AttributeError",
     "evalue": "'OutStream' object has no attribute 'buffer'",
     "output_type": "error",
     "traceback": [
      "\u001b[0;31m---------------------------------------------------------------------------\u001b[0m",
      "\u001b[0;31mAttributeError\u001b[0m                            Traceback (most recent call last)",
      "\u001b[0;32m/tmp/ipykernel_60504/311033507.py\u001b[0m in \u001b[0;36m<module>\u001b[0;34m\u001b[0m\n\u001b[1;32m     29\u001b[0m \u001b[0;34m\u001b[0m\u001b[0m\n\u001b[1;32m     30\u001b[0m \u001b[0;31m#Two lines to make our compiler able to draw:\u001b[0m\u001b[0;34m\u001b[0m\u001b[0;34m\u001b[0m\u001b[0m\n\u001b[0;32m---> 31\u001b[0;31m \u001b[0mplt\u001b[0m\u001b[0;34m.\u001b[0m\u001b[0msavefig\u001b[0m\u001b[0;34m(\u001b[0m\u001b[0msys\u001b[0m\u001b[0;34m.\u001b[0m\u001b[0mstdout\u001b[0m\u001b[0;34m.\u001b[0m\u001b[0mbuffer\u001b[0m\u001b[0;34m)\u001b[0m\u001b[0;34m\u001b[0m\u001b[0;34m\u001b[0m\u001b[0m\n\u001b[0m\u001b[1;32m     32\u001b[0m \u001b[0msys\u001b[0m\u001b[0;34m.\u001b[0m\u001b[0mstdout\u001b[0m\u001b[0;34m.\u001b[0m\u001b[0mflush\u001b[0m\u001b[0;34m(\u001b[0m\u001b[0;34m)\u001b[0m\u001b[0;34m\u001b[0m\u001b[0;34m\u001b[0m\u001b[0m\n",
      "\u001b[0;31mAttributeError\u001b[0m: 'OutStream' object has no attribute 'buffer'"
     ]
    }
   ],
   "source": [
    "#Three lines to make our compiler able to draw:\n",
    "import sys\n",
    "import matplotlib\n",
    "matplotlib.use('Agg')\n",
    "\n",
    "import pandas as pd\n",
    "import matplotlib.pyplot as plt\n",
    "from scipy import stats\n",
    "\n",
    "full_health_data = pd.read_csv(\"data.csv\", header=0, sep=\",\")\n",
    "\n",
    "x = full_health_data[\"Average_Pulse\"]\n",
    "y = full_health_data[\"Calorie_Burnage\"]\n",
    "\n",
    "slope, intercept, r, p, std_err = stats.linregress(x, y)\n",
    "\n",
    "def myfunc(x):\n",
    " return slope * x + intercept\n",
    "\n",
    "mymodel = list(map(myfunc, x))\n",
    "\n",
    "plt.scatter(x, y)\n",
    "plt.plot(x, mymodel)\n",
    "plt.ylim(ymin=0, ymax=2000)\n",
    "plt.xlim(xmin=0, xmax=200)\n",
    "plt.xlabel(\"Average_Pulse\")\n",
    "plt.ylabel (\"Calorie_Burnage\")\n",
    "plt.show()\n",
    "\n",
    "#Two lines to make our compiler able to draw:\n",
    "plt.savefig(sys.stdout.buffer)\n",
    "sys.stdout.flush()\n"
   ]
  },
  {
   "cell_type": "code",
   "execution_count": null,
   "metadata": {},
   "outputs": [
    {
     "name": "stdout",
     "output_type": "stream",
     "text": [
      "   col1  col2  col3\n",
      "0     1     4     7\n",
      "1     2     5     8\n",
      "2     3     6    12\n",
      "3     4     9     1\n",
      "4     7     5    11\n"
     ]
    }
   ],
   "source": [
    "import pandas as pd\n",
    "#pandas is used to print the data in a table\n",
    "d = {'col1': [1, 2, 3, 4, 7], 'col2': [4, 5, 6, 9, 5], 'col3': [7, 8, 12, 1, 11]}\n",
    "\n",
    "df = pd.DataFrame(data=d)\n",
    "\n",
    "print(df)"
   ]
  },
  {
   "cell_type": "code",
   "execution_count": null,
   "metadata": {},
   "outputs": [
    {
     "name": "stdout",
     "output_type": "stream",
     "text": [
      "5\n"
     ]
    }
   ],
   "source": [
    "count_row = df.shape[0]\n",
    "print(count_row)\n",
    "\n",
    "#keyworkd: pandas, dataframe, shape, print used to count the number of rows in a dataframe"
   ]
  },
  {
   "cell_type": "code",
   "execution_count": null,
   "metadata": {},
   "outputs": [
    {
     "name": "stdout",
     "output_type": "stream",
     "text": [
      "125\n"
     ]
    }
   ],
   "source": [
    "Average_pulse_max = max(80, 85, 90, 95, 100, 105, 110, 115, 120, 125)\n",
    "#max() used to find the maximum value in an array\n",
    "print (Average_pulse_max)"
   ]
  },
  {
   "cell_type": "code",
   "execution_count": null,
   "metadata": {},
   "outputs": [
    {
     "name": "stdout",
     "output_type": "stream",
     "text": [
      "80\n"
     ]
    }
   ],
   "source": [
    "Average_pulse_min = min(80, 85, 90, 95, 100, 105, 110, 115, 120, 125)\n",
    "#min() used to find the minimum value in an array\n",
    "print (Average_pulse_min)"
   ]
  },
  {
   "cell_type": "code",
   "execution_count": null,
   "metadata": {},
   "outputs": [
    {
     "name": "stdout",
     "output_type": "stream",
     "text": [
      "285.0\n"
     ]
    }
   ],
   "source": [
    "import numpy as np\n",
    "\n",
    "Calorie_burnage = [240, 250, 260, 270, 280, 290, 300, 310, 320, 330]\n",
    "#mean() used to find the average value in an array\n",
    "Average_calorie_burnage = np.mean(Calorie_burnage)\n",
    "\n",
    "print(Average_calorie_burnage)"
   ]
  },
  {
   "cell_type": "code",
   "execution_count": null,
   "metadata": {},
   "outputs": [
    {
     "name": "stdout",
     "output_type": "stream",
     "text": [
      "     Duration  Average_Pulse  Max_Pulse  Calorie_Burnage  Hours_Work  \\\n",
      "0          60            110        130              409         0.0   \n",
      "1          60            117        145              479         0.0   \n",
      "2          60            103        135              340         8.0   \n",
      "3          45            109        175              282         8.0   \n",
      "4          45            117        148              406         0.0   \n",
      "..        ...            ...        ...              ...         ...   \n",
      "158        60            105        140              290         7.0   \n",
      "159        60            110        145              300         7.0   \n",
      "160        60            115        145              310         8.0   \n",
      "161        75            120        150              320         0.0   \n",
      "162        75            125        150              330         8.0   \n",
      "\n",
      "     Hours_Sleep  \n",
      "0            8.0  \n",
      "1            8.0  \n",
      "2            7.5  \n",
      "3            8.0  \n",
      "4            6.5  \n",
      "..           ...  \n",
      "158          8.0  \n",
      "159          8.0  \n",
      "160          8.0  \n",
      "161          8.0  \n",
      "162          8.0  \n",
      "\n",
      "[163 rows x 6 columns]\n"
     ]
    }
   ],
   "source": [
    "\n",
    "#READ_CSV USED TO READ THE DATA FROM THE CSV FILE\n",
    "import pandas as pd\n",
    "\n",
    "health_data = pd.read_csv(\"data.csv\", header=0, sep=\",\")\n",
    "\n",
    "print(health_data)"
   ]
  },
  {
   "cell_type": "code",
   "execution_count": null,
   "metadata": {},
   "outputs": [
    {
     "name": "stdout",
     "output_type": "stream",
     "text": [
      "   Duration  Average_Pulse  Max_Pulse  Calorie_Burnage  Hours_Work  \\\n",
      "0        60            110        130              409         0.0   \n",
      "1        60            117        145              479         0.0   \n",
      "2        60            103        135              340         8.0   \n",
      "3        45            109        175              282         8.0   \n",
      "4        45            117        148              406         0.0   \n",
      "\n",
      "   Hours_Sleep  \n",
      "0          8.0  \n",
      "1          8.0  \n",
      "2          7.5  \n",
      "3          8.0  \n",
      "4          6.5  \n"
     ]
    }
   ],
   "source": [
    "import pandas as pd\n",
    "#head() used to print the first 5 rows of the data\n",
    "health_data = pd.read_csv(\"data.csv\", header=0, sep=\",\")\n",
    "\n",
    "print(health_data.head())"
   ]
  },
  {
   "cell_type": "code",
   "execution_count": null,
   "metadata": {},
   "outputs": [
    {
     "name": "stdout",
     "output_type": "stream",
     "text": [
      "     Duration  Average_Pulse  Max_Pulse  Calorie_Burnage  Hours_Work  \\\n",
      "0          60            110        130              409         0.0   \n",
      "1          60            117        145              479         0.0   \n",
      "2          60            103        135              340         8.0   \n",
      "3          45            109        175              282         8.0   \n",
      "4          45            117        148              406         0.0   \n",
      "..        ...            ...        ...              ...         ...   \n",
      "158        60            105        140              290         7.0   \n",
      "159        60            110        145              300         7.0   \n",
      "160        60            115        145              310         8.0   \n",
      "161        75            120        150              320         0.0   \n",
      "162        75            125        150              330         8.0   \n",
      "\n",
      "     Hours_Sleep  \n",
      "0            8.0  \n",
      "1            8.0  \n",
      "2            7.5  \n",
      "3            8.0  \n",
      "4            6.5  \n",
      "..           ...  \n",
      "158          8.0  \n",
      "159          8.0  \n",
      "160          8.0  \n",
      "161          8.0  \n",
      "162          8.0  \n",
      "\n",
      "[163 rows x 6 columns]\n"
     ]
    }
   ],
   "source": [
    "health_data.dropna(axis=0,inplace=True)\n",
    "#dropna() used to drop the rows with missing values\n",
    "print(health_data)"
   ]
  },
  {
   "cell_type": "code",
   "execution_count": null,
   "metadata": {},
   "outputs": [
    {
     "name": "stdout",
     "output_type": "stream",
     "text": [
      "<class 'pandas.core.frame.DataFrame'>\n",
      "Int64Index: 163 entries, 0 to 162\n",
      "Data columns (total 6 columns):\n",
      " #   Column           Non-Null Count  Dtype  \n",
      "---  ------           --------------  -----  \n",
      " 0   Duration         163 non-null    int64  \n",
      " 1   Average_Pulse    163 non-null    int64  \n",
      " 2   Max_Pulse        163 non-null    int64  \n",
      " 3   Calorie_Burnage  163 non-null    int64  \n",
      " 4   Hours_Work       163 non-null    float64\n",
      " 5   Hours_Sleep      163 non-null    float64\n",
      "dtypes: float64(2), int64(4)\n",
      "memory usage: 8.9 KB\n",
      "None\n"
     ]
    }
   ],
   "source": [
    "print(health_data.info())\n",
    "#info() used to print the information about the data"
   ]
  },
  {
   "cell_type": "code",
   "execution_count": null,
   "metadata": {},
   "outputs": [
    {
     "name": "stdout",
     "output_type": "stream",
     "text": [
      "         Duration  Average_Pulse   Max_Pulse  Calorie_Burnage  Hours_Work  \\\n",
      "count  163.000000     163.000000  163.000000       163.000000  163.000000   \n",
      "mean    64.263804     107.723926  134.226994       382.368098    4.386503   \n",
      "std     42.994520      14.625062   16.403967       274.227106    3.923772   \n",
      "min     15.000000      80.000000  100.000000        50.000000    0.000000   \n",
      "25%     45.000000     100.000000  124.000000       256.500000    0.000000   \n",
      "50%     60.000000     105.000000  131.000000       320.000000    5.000000   \n",
      "75%     60.000000     111.000000  141.000000       388.500000    8.000000   \n",
      "max    300.000000     159.000000  184.000000      1860.000000   11.000000   \n",
      "\n",
      "       Hours_Sleep  \n",
      "count   163.000000  \n",
      "mean      7.680982  \n",
      "std       0.663934  \n",
      "min       5.000000  \n",
      "25%       7.500000  \n",
      "50%       8.000000  \n",
      "75%       8.000000  \n",
      "max      12.000000  \n"
     ]
    }
   ],
   "source": [
    "print(health_data.describe())\n",
    "#describe() used to print the statistical information about the data and give the summary of the data"
   ]
  },
  {
   "cell_type": "code",
   "execution_count": null,
   "metadata": {},
   "outputs": [
    {
     "name": "stderr",
     "output_type": "stream",
     "text": [
      "/tmp/ipykernel_60504/3755679408.py:8: UserWarning: Matplotlib is currently using agg, which is a non-GUI backend, so cannot show the figure.\n",
      "  plt.show()\n"
     ]
    }
   ],
   "source": [
    "import matplotlib.pyplot as plt\n",
    "\n",
    "# import matplotlib\n",
    "health_data.plot(x ='Average_Pulse', y='Calorie_Burnage', kind='line'),\n",
    "plt.ylim(ymin=0)\n",
    "plt.xlim(xmin=0)\n",
    "\n",
    "plt.show()"
   ]
  }
 ],
 "metadata": {
  "kernelspec": {
   "display_name": "Python 3.10.5 64-bit",
   "language": "python",
   "name": "python3"
  },
  "language_info": {
   "codemirror_mode": {
    "name": "ipython",
    "version": 3
   },
   "file_extension": ".py",
   "mimetype": "text/x-python",
   "name": "python",
   "nbconvert_exporter": "python",
   "pygments_lexer": "ipython3",
   "version": "3.10.5"
  },
  "orig_nbformat": 4,
  "vscode": {
   "interpreter": {
    "hash": "e7370f93d1d0cde622a1f8e1c04877d8463912d04d973331ad4851f04de6915a"
   }
  }
 },
 "nbformat": 4,
 "nbformat_minor": 2
}
