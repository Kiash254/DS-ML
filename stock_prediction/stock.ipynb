{
 "cells": [
  {
   "cell_type": "markdown",
   "metadata": {},
   "source": [
    "## Stock Price Prediction\n",
    "Predicting the stock market has been the bane and goal of investors since its inception. Every day billions of dollars are traded on the stock exchange, and behind every dollar is an investor hoping to make a profit in one way or another.\n",
    "\n",
    "Entire companies rise and fall daily depending on market behaviour. If an investor is able to accurately predict market movements, he offers a tantalizing promise of wealth and influence. \n",
    "\n",
    "Today, so many people are making money staying at home trading in the stock market. It is a plus point for you if you use your experience in the stock market and your machine learning skills for the task of stock price prediction.\n",
    "\n",
    "Let’s see how to predict stock prices using Machine Learning and the python programming language. I will start this task by importing all the necessary python libraries that we need for this task:"
   ]
  },
  {
   "cell_type": "code",
   "execution_count": 1,
   "metadata": {},
   "outputs": [],
   "source": [
    "import numpy as np\n",
    "import pandas as pd\n",
    "from sklearn import preprocessing\n",
    "from sklearn.model_selection import train_test_split\n",
    "from sklearn.linear_model import LinearRegression"
   ]
  },
  {
   "cell_type": "markdown",
   "metadata": {},
   "source": [
    "## Data Preparation\n",
    "In the above section, I started the task of stock price prediction by importing the python libraries. Now I will write a function that will prepare the dataset so that we can fit it easily in the Linear Regression model:"
   ]
  },
  {
   "cell_type": "code",
   "execution_count": 2,
   "metadata": {},
   "outputs": [],
   "source": [
    "def prepare_data(df,forecast_col,forecast_out,test_size):\n",
    "    label = df[forecast_col].shift(-forecast_out) #creating new column called label with the last 5 rows are nan\n",
    "    X = np.array(df[[forecast_col]]) #creating the feature array\n",
    "    X = preprocessing.scale(X) #processing the feature array\n",
    "    X_lately = X[-forecast_out:] #creating the column i want to use later in the predicting method\n",
    "    X = X[:-forecast_out] # X that will contain the training and testing\n",
    "    label.dropna(inplace=True) #dropping na values\n",
    "    y = np.array(label)  # assigning Y\n",
    "    X_train, X_test, Y_train, Y_test = train_test_split(X, y, test_size=test_size, random_state=0) #cross validation\n",
    "\n",
    "    response = [X_train,X_test , Y_train, Y_test , X_lately]\n",
    "    return response"
   ]
  },
  {
   "cell_type": "code",
   "execution_count": 5,
   "metadata": {},
   "outputs": [],
   "source": [
    "df = pd.read_csv(\"prices.csv\")\n"
   ]
  },
  {
   "cell_type": "code",
   "execution_count": 8,
   "metadata": {},
   "outputs": [
    {
     "data": {
      "text/plain": [
       "Date                  0\n",
       "Symbol                0\n",
       "Series                0\n",
       "Prev Close            0\n",
       "Open                  0\n",
       "High                  0\n",
       "Low                   0\n",
       "Last                  0\n",
       "Close                 0\n",
       "VWAP                  0\n",
       "Volume                0\n",
       "Turnover              0\n",
       "Trades                0\n",
       "Deliverable Volume    0\n",
       "%Deliverble           0\n",
       "dtype: int64"
      ]
     },
     "execution_count": 8,
     "metadata": {},
     "output_type": "execute_result"
    }
   ],
   "source": [
    "#check the null values  \n",
    "df.isnull().sum()\n",
    "\n",
    "#removing the null values\n",
    "df=df.dropna()\n",
    "\n",
    "#check the null values\n",
    "df.isnull().sum()"
   ]
  },
  {
   "cell_type": "code",
   "execution_count": 10,
   "metadata": {},
   "outputs": [
    {
     "data": {
      "text/plain": [
       "Index(['Date', 'Symbol', 'Series', 'Prev Close', 'Open', 'High', 'Low', 'Last',\n",
       "       'Close', 'VWAP', 'Volume', 'Turnover', 'Trades', 'Deliverable Volume',\n",
       "       '%Deliverble'],\n",
       "      dtype='object')"
      ]
     },
     "execution_count": 10,
     "metadata": {},
     "output_type": "execute_result"
    }
   ],
   "source": [
    "#check the columns of the data\n",
    "df.columns\n",
    "    "
   ]
  },
  {
   "cell_type": "code",
   "execution_count": 12,
   "metadata": {},
   "outputs": [
    {
     "data": {
      "text/html": [
       "<div>\n",
       "<style scoped>\n",
       "    .dataframe tbody tr th:only-of-type {\n",
       "        vertical-align: middle;\n",
       "    }\n",
       "\n",
       "    .dataframe tbody tr th {\n",
       "        vertical-align: top;\n",
       "    }\n",
       "\n",
       "    .dataframe thead th {\n",
       "        text-align: right;\n",
       "    }\n",
       "</style>\n",
       "<table border=\"1\" class=\"dataframe\">\n",
       "  <thead>\n",
       "    <tr style=\"text-align: right;\">\n",
       "      <th></th>\n",
       "      <th>Date</th>\n",
       "      <th>Symbol</th>\n",
       "      <th>Series</th>\n",
       "      <th>Prev Close</th>\n",
       "      <th>Open</th>\n",
       "      <th>High</th>\n",
       "      <th>Low</th>\n",
       "      <th>Last</th>\n",
       "      <th>Close</th>\n",
       "      <th>VWAP</th>\n",
       "      <th>Volume</th>\n",
       "      <th>Turnover</th>\n",
       "      <th>Trades</th>\n",
       "      <th>Deliverable Volume</th>\n",
       "      <th>%Deliverble</th>\n",
       "    </tr>\n",
       "  </thead>\n",
       "  <tbody>\n",
       "    <tr>\n",
       "      <th>3849</th>\n",
       "      <td>01-06-2011</td>\n",
       "      <td>RELIANCE</td>\n",
       "      <td>EQ</td>\n",
       "      <td>951.85</td>\n",
       "      <td>952.00</td>\n",
       "      <td>958.65</td>\n",
       "      <td>943.65</td>\n",
       "      <td>947.5</td>\n",
       "      <td>946.80</td>\n",
       "      <td>947.83</td>\n",
       "      <td>1838452</td>\n",
       "      <td>1.740000e+14</td>\n",
       "      <td>58630.0</td>\n",
       "      <td>901415.0</td>\n",
       "      <td>0.4903</td>\n",
       "    </tr>\n",
       "    <tr>\n",
       "      <th>3850</th>\n",
       "      <td>02-06-2011</td>\n",
       "      <td>RELIANCE</td>\n",
       "      <td>EQ</td>\n",
       "      <td>946.80</td>\n",
       "      <td>936.55</td>\n",
       "      <td>954.70</td>\n",
       "      <td>936.55</td>\n",
       "      <td>952.5</td>\n",
       "      <td>951.05</td>\n",
       "      <td>947.09</td>\n",
       "      <td>2152963</td>\n",
       "      <td>2.040000e+14</td>\n",
       "      <td>63061.0</td>\n",
       "      <td>1066759.0</td>\n",
       "      <td>0.4955</td>\n",
       "    </tr>\n",
       "    <tr>\n",
       "      <th>3851</th>\n",
       "      <td>03-06-2011</td>\n",
       "      <td>RELIANCE</td>\n",
       "      <td>EQ</td>\n",
       "      <td>951.05</td>\n",
       "      <td>960.50</td>\n",
       "      <td>967.00</td>\n",
       "      <td>931.50</td>\n",
       "      <td>936.0</td>\n",
       "      <td>934.60</td>\n",
       "      <td>951.69</td>\n",
       "      <td>4368279</td>\n",
       "      <td>4.160000e+14</td>\n",
       "      <td>128784.0</td>\n",
       "      <td>1035791.0</td>\n",
       "      <td>0.2371</td>\n",
       "    </tr>\n",
       "    <tr>\n",
       "      <th>3852</th>\n",
       "      <td>06-06-2011</td>\n",
       "      <td>RELIANCE</td>\n",
       "      <td>EQ</td>\n",
       "      <td>934.60</td>\n",
       "      <td>934.65</td>\n",
       "      <td>940.80</td>\n",
       "      <td>928.15</td>\n",
       "      <td>938.6</td>\n",
       "      <td>937.75</td>\n",
       "      <td>935.29</td>\n",
       "      <td>1405741</td>\n",
       "      <td>1.310000e+14</td>\n",
       "      <td>43384.0</td>\n",
       "      <td>476631.0</td>\n",
       "      <td>0.3391</td>\n",
       "    </tr>\n",
       "    <tr>\n",
       "      <th>3853</th>\n",
       "      <td>07-06-2011</td>\n",
       "      <td>RELIANCE</td>\n",
       "      <td>EQ</td>\n",
       "      <td>937.75</td>\n",
       "      <td>933.55</td>\n",
       "      <td>960.00</td>\n",
       "      <td>933.55</td>\n",
       "      <td>959.6</td>\n",
       "      <td>958.25</td>\n",
       "      <td>950.55</td>\n",
       "      <td>4025919</td>\n",
       "      <td>3.830000e+14</td>\n",
       "      <td>88703.0</td>\n",
       "      <td>2424958.0</td>\n",
       "      <td>0.6023</td>\n",
       "    </tr>\n",
       "  </tbody>\n",
       "</table>\n",
       "</div>"
      ],
      "text/plain": [
       "            Date    Symbol Series  Prev Close    Open    High     Low   Last  \\\n",
       "3849  01-06-2011  RELIANCE     EQ      951.85  952.00  958.65  943.65  947.5   \n",
       "3850  02-06-2011  RELIANCE     EQ      946.80  936.55  954.70  936.55  952.5   \n",
       "3851  03-06-2011  RELIANCE     EQ      951.05  960.50  967.00  931.50  936.0   \n",
       "3852  06-06-2011  RELIANCE     EQ      934.60  934.65  940.80  928.15  938.6   \n",
       "3853  07-06-2011  RELIANCE     EQ      937.75  933.55  960.00  933.55  959.6   \n",
       "\n",
       "       Close    VWAP   Volume      Turnover    Trades  Deliverable Volume  \\\n",
       "3849  946.80  947.83  1838452  1.740000e+14   58630.0            901415.0   \n",
       "3850  951.05  947.09  2152963  2.040000e+14   63061.0           1066759.0   \n",
       "3851  934.60  951.69  4368279  4.160000e+14  128784.0           1035791.0   \n",
       "3852  937.75  935.29  1405741  1.310000e+14   43384.0            476631.0   \n",
       "3853  958.25  950.55  4025919  3.830000e+14   88703.0           2424958.0   \n",
       "\n",
       "      %Deliverble  \n",
       "3849       0.4903  \n",
       "3850       0.4955  \n",
       "3851       0.2371  \n",
       "3852       0.3391  \n",
       "3853       0.6023  "
      ]
     },
     "execution_count": 12,
     "metadata": {},
     "output_type": "execute_result"
    }
   ],
   "source": [
    "#check the head of the data\n",
    "df.head()"
   ]
  },
  {
   "cell_type": "code",
   "execution_count": 14,
   "metadata": {},
   "outputs": [
    {
     "data": {
      "text/plain": [
       "Index(['Date', 'Symbol', 'Series', 'Prev Close', 'Open', 'High', 'Low', 'Last',\n",
       "       'Close', 'VWAP', 'Volume', 'Turnover', 'Trades', 'Deliverable Volume',\n",
       "       '%Deliverble'],\n",
       "      dtype='object')"
      ]
     },
     "execution_count": 14,
     "metadata": {},
     "output_type": "execute_result"
    }
   ],
   "source": [
    "df.columns"
   ]
  },
  {
   "cell_type": "code",
   "execution_count": 15,
   "metadata": {},
   "outputs": [
    {
     "name": "stderr",
     "output_type": "stream",
     "text": [
      "/tmp/ipykernel_9396/252788912.py:2: FutureWarning: In a future version of pandas all arguments of DataFrame.drop except for the argument 'labels' will be keyword-only.\n",
      "  df.drop(['Symbol','Date','Series'],1,inplace=True)\n"
     ]
    }
   ],
   "source": [
    "#drop the symbol column , date and series\n",
    "df.drop(['Symbol','Date','Series'],1,inplace=True)  \n"
   ]
  },
  {
   "cell_type": "code",
   "execution_count": 16,
   "metadata": {},
   "outputs": [
    {
     "data": {
      "text/html": [
       "<div>\n",
       "<style scoped>\n",
       "    .dataframe tbody tr th:only-of-type {\n",
       "        vertical-align: middle;\n",
       "    }\n",
       "\n",
       "    .dataframe tbody tr th {\n",
       "        vertical-align: top;\n",
       "    }\n",
       "\n",
       "    .dataframe thead th {\n",
       "        text-align: right;\n",
       "    }\n",
       "</style>\n",
       "<table border=\"1\" class=\"dataframe\">\n",
       "  <thead>\n",
       "    <tr style=\"text-align: right;\">\n",
       "      <th></th>\n",
       "      <th>Prev Close</th>\n",
       "      <th>Open</th>\n",
       "      <th>High</th>\n",
       "      <th>Low</th>\n",
       "      <th>Last</th>\n",
       "      <th>Close</th>\n",
       "      <th>VWAP</th>\n",
       "      <th>Volume</th>\n",
       "      <th>Turnover</th>\n",
       "      <th>Trades</th>\n",
       "      <th>Deliverable Volume</th>\n",
       "      <th>%Deliverble</th>\n",
       "    </tr>\n",
       "  </thead>\n",
       "  <tbody>\n",
       "    <tr>\n",
       "      <th>3849</th>\n",
       "      <td>951.85</td>\n",
       "      <td>952.00</td>\n",
       "      <td>958.65</td>\n",
       "      <td>943.65</td>\n",
       "      <td>947.5</td>\n",
       "      <td>946.80</td>\n",
       "      <td>947.83</td>\n",
       "      <td>1838452</td>\n",
       "      <td>1.740000e+14</td>\n",
       "      <td>58630.0</td>\n",
       "      <td>901415.0</td>\n",
       "      <td>0.4903</td>\n",
       "    </tr>\n",
       "    <tr>\n",
       "      <th>3850</th>\n",
       "      <td>946.80</td>\n",
       "      <td>936.55</td>\n",
       "      <td>954.70</td>\n",
       "      <td>936.55</td>\n",
       "      <td>952.5</td>\n",
       "      <td>951.05</td>\n",
       "      <td>947.09</td>\n",
       "      <td>2152963</td>\n",
       "      <td>2.040000e+14</td>\n",
       "      <td>63061.0</td>\n",
       "      <td>1066759.0</td>\n",
       "      <td>0.4955</td>\n",
       "    </tr>\n",
       "    <tr>\n",
       "      <th>3851</th>\n",
       "      <td>951.05</td>\n",
       "      <td>960.50</td>\n",
       "      <td>967.00</td>\n",
       "      <td>931.50</td>\n",
       "      <td>936.0</td>\n",
       "      <td>934.60</td>\n",
       "      <td>951.69</td>\n",
       "      <td>4368279</td>\n",
       "      <td>4.160000e+14</td>\n",
       "      <td>128784.0</td>\n",
       "      <td>1035791.0</td>\n",
       "      <td>0.2371</td>\n",
       "    </tr>\n",
       "    <tr>\n",
       "      <th>3852</th>\n",
       "      <td>934.60</td>\n",
       "      <td>934.65</td>\n",
       "      <td>940.80</td>\n",
       "      <td>928.15</td>\n",
       "      <td>938.6</td>\n",
       "      <td>937.75</td>\n",
       "      <td>935.29</td>\n",
       "      <td>1405741</td>\n",
       "      <td>1.310000e+14</td>\n",
       "      <td>43384.0</td>\n",
       "      <td>476631.0</td>\n",
       "      <td>0.3391</td>\n",
       "    </tr>\n",
       "    <tr>\n",
       "      <th>3853</th>\n",
       "      <td>937.75</td>\n",
       "      <td>933.55</td>\n",
       "      <td>960.00</td>\n",
       "      <td>933.55</td>\n",
       "      <td>959.6</td>\n",
       "      <td>958.25</td>\n",
       "      <td>950.55</td>\n",
       "      <td>4025919</td>\n",
       "      <td>3.830000e+14</td>\n",
       "      <td>88703.0</td>\n",
       "      <td>2424958.0</td>\n",
       "      <td>0.6023</td>\n",
       "    </tr>\n",
       "  </tbody>\n",
       "</table>\n",
       "</div>"
      ],
      "text/plain": [
       "      Prev Close    Open    High     Low   Last   Close    VWAP   Volume  \\\n",
       "3849      951.85  952.00  958.65  943.65  947.5  946.80  947.83  1838452   \n",
       "3850      946.80  936.55  954.70  936.55  952.5  951.05  947.09  2152963   \n",
       "3851      951.05  960.50  967.00  931.50  936.0  934.60  951.69  4368279   \n",
       "3852      934.60  934.65  940.80  928.15  938.6  937.75  935.29  1405741   \n",
       "3853      937.75  933.55  960.00  933.55  959.6  958.25  950.55  4025919   \n",
       "\n",
       "          Turnover    Trades  Deliverable Volume  %Deliverble  \n",
       "3849  1.740000e+14   58630.0            901415.0       0.4903  \n",
       "3850  2.040000e+14   63061.0           1066759.0       0.4955  \n",
       "3851  4.160000e+14  128784.0           1035791.0       0.2371  \n",
       "3852  1.310000e+14   43384.0            476631.0       0.3391  \n",
       "3853  3.830000e+14   88703.0           2424958.0       0.6023  "
      ]
     },
     "execution_count": 16,
     "metadata": {},
     "output_type": "execute_result"
    }
   ],
   "source": [
    "#check the head of the datasets\n",
    "df.head()"
   ]
  },
  {
   "cell_type": "code",
   "execution_count": null,
   "metadata": {},
   "outputs": [],
   "source": [
    "#check the info\n",
    "df.info()"
   ]
  }
 ],
 "metadata": {
  "kernelspec": {
   "display_name": "base",
   "language": "python",
   "name": "python3"
  },
  "language_info": {
   "codemirror_mode": {
    "name": "ipython",
    "version": 3
   },
   "file_extension": ".py",
   "mimetype": "text/x-python",
   "name": "python",
   "nbconvert_exporter": "python",
   "pygments_lexer": "ipython3",
   "version": "3.10.9"
  },
  "orig_nbformat": 4
 },
 "nbformat": 4,
 "nbformat_minor": 2
}
